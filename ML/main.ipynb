{
 "cells": [
  {
   "cell_type": "code",
   "execution_count": 1,
   "id": "b2fddfc1-5df5-438f-ac33-e0d8fb59e663",
   "metadata": {},
   "outputs": [],
   "source": [
    "import pandas as pd\n",
    "import numpy as np"
   ]
  },
  {
   "cell_type": "code",
   "execution_count": 3,
   "id": "f77b59d3-139f-499d-9bb3-9aba9e3b5449",
   "metadata": {},
   "outputs": [
    {
     "data": {
      "text/html": [
       "<div>\n",
       "<style scoped>\n",
       "    .dataframe tbody tr th:only-of-type {\n",
       "        vertical-align: middle;\n",
       "    }\n",
       "\n",
       "    .dataframe tbody tr th {\n",
       "        vertical-align: top;\n",
       "    }\n",
       "\n",
       "    .dataframe thead th {\n",
       "        text-align: right;\n",
       "    }\n",
       "</style>\n",
       "<table border=\"1\" class=\"dataframe\">\n",
       "  <thead>\n",
       "    <tr style=\"text-align: right;\">\n",
       "      <th></th>\n",
       "      <th>ID</th>\n",
       "      <th>Delivery_person_ID</th>\n",
       "      <th>Delivery_person_Age</th>\n",
       "      <th>Delivery_person_Ratings</th>\n",
       "      <th>Restaurant_latitude</th>\n",
       "      <th>Restaurant_longitude</th>\n",
       "      <th>Delivery_location_latitude</th>\n",
       "      <th>Delivery_location_longitude</th>\n",
       "      <th>Order_Date</th>\n",
       "      <th>Time_Orderd</th>\n",
       "      <th>Time_Order_picked</th>\n",
       "      <th>Weather_conditions</th>\n",
       "      <th>Road_traffic_density</th>\n",
       "      <th>Vehicle_condition</th>\n",
       "      <th>Type_of_order</th>\n",
       "      <th>Type_of_vehicle</th>\n",
       "      <th>multiple_deliveries</th>\n",
       "      <th>Festival</th>\n",
       "      <th>City</th>\n",
       "      <th>Time_taken (min)</th>\n",
       "    </tr>\n",
       "  </thead>\n",
       "  <tbody>\n",
       "    <tr>\n",
       "      <th>0</th>\n",
       "      <td>0xcdcd</td>\n",
       "      <td>DEHRES17DEL01</td>\n",
       "      <td>36.0</td>\n",
       "      <td>4.2</td>\n",
       "      <td>30.327968</td>\n",
       "      <td>78.046106</td>\n",
       "      <td>30.397968</td>\n",
       "      <td>78.116106</td>\n",
       "      <td>12-02-2022</td>\n",
       "      <td>21:55</td>\n",
       "      <td>22:10</td>\n",
       "      <td>3.0</td>\n",
       "      <td>4.0</td>\n",
       "      <td>2</td>\n",
       "      <td>Snack</td>\n",
       "      <td>motorcycle</td>\n",
       "      <td>3.0</td>\n",
       "      <td>0.0</td>\n",
       "      <td>3.0</td>\n",
       "      <td>46</td>\n",
       "    </tr>\n",
       "    <tr>\n",
       "      <th>1</th>\n",
       "      <td>0xd987</td>\n",
       "      <td>KOCRES16DEL01</td>\n",
       "      <td>21.0</td>\n",
       "      <td>4.7</td>\n",
       "      <td>10.003064</td>\n",
       "      <td>76.307589</td>\n",
       "      <td>10.043064</td>\n",
       "      <td>76.347589</td>\n",
       "      <td>13-02-2022</td>\n",
       "      <td>14:55</td>\n",
       "      <td>15:05</td>\n",
       "      <td>5.0</td>\n",
       "      <td>3.0</td>\n",
       "      <td>1</td>\n",
       "      <td>Meal</td>\n",
       "      <td>motorcycle</td>\n",
       "      <td>1.0</td>\n",
       "      <td>0.0</td>\n",
       "      <td>3.0</td>\n",
       "      <td>23</td>\n",
       "    </tr>\n",
       "    <tr>\n",
       "      <th>2</th>\n",
       "      <td>0x2784</td>\n",
       "      <td>PUNERES13DEL03</td>\n",
       "      <td>23.0</td>\n",
       "      <td>4.7</td>\n",
       "      <td>18.562450</td>\n",
       "      <td>73.916619</td>\n",
       "      <td>18.652450</td>\n",
       "      <td>74.006619</td>\n",
       "      <td>04-03-2022</td>\n",
       "      <td>17:30</td>\n",
       "      <td>17:40</td>\n",
       "      <td>4.0</td>\n",
       "      <td>2.0</td>\n",
       "      <td>1</td>\n",
       "      <td>Drinks</td>\n",
       "      <td>scooter</td>\n",
       "      <td>1.0</td>\n",
       "      <td>0.0</td>\n",
       "      <td>3.0</td>\n",
       "      <td>21</td>\n",
       "    </tr>\n",
       "    <tr>\n",
       "      <th>3</th>\n",
       "      <td>0xc8b6</td>\n",
       "      <td>LUDHRES15DEL02</td>\n",
       "      <td>34.0</td>\n",
       "      <td>4.3</td>\n",
       "      <td>30.899584</td>\n",
       "      <td>75.809346</td>\n",
       "      <td>30.919584</td>\n",
       "      <td>75.829346</td>\n",
       "      <td>13-02-2022</td>\n",
       "      <td>09:20</td>\n",
       "      <td>09:30</td>\n",
       "      <td>4.0</td>\n",
       "      <td>1.0</td>\n",
       "      <td>0</td>\n",
       "      <td>Buffet</td>\n",
       "      <td>motorcycle</td>\n",
       "      <td>0.0</td>\n",
       "      <td>0.0</td>\n",
       "      <td>3.0</td>\n",
       "      <td>20</td>\n",
       "    </tr>\n",
       "    <tr>\n",
       "      <th>4</th>\n",
       "      <td>0xdb64</td>\n",
       "      <td>KNPRES14DEL02</td>\n",
       "      <td>24.0</td>\n",
       "      <td>4.7</td>\n",
       "      <td>26.463504</td>\n",
       "      <td>80.372929</td>\n",
       "      <td>26.593504</td>\n",
       "      <td>80.502929</td>\n",
       "      <td>14-02-2022</td>\n",
       "      <td>19:50</td>\n",
       "      <td>20:05</td>\n",
       "      <td>3.0</td>\n",
       "      <td>4.0</td>\n",
       "      <td>1</td>\n",
       "      <td>Snack</td>\n",
       "      <td>scooter</td>\n",
       "      <td>1.0</td>\n",
       "      <td>0.0</td>\n",
       "      <td>3.0</td>\n",
       "      <td>41</td>\n",
       "    </tr>\n",
       "  </tbody>\n",
       "</table>\n",
       "</div>"
      ],
      "text/plain": [
       "       ID Delivery_person_ID  Delivery_person_Age  Delivery_person_Ratings  \\\n",
       "0  0xcdcd      DEHRES17DEL01                 36.0                      4.2   \n",
       "1  0xd987      KOCRES16DEL01                 21.0                      4.7   \n",
       "2  0x2784     PUNERES13DEL03                 23.0                      4.7   \n",
       "3  0xc8b6     LUDHRES15DEL02                 34.0                      4.3   \n",
       "4  0xdb64      KNPRES14DEL02                 24.0                      4.7   \n",
       "\n",
       "   Restaurant_latitude  Restaurant_longitude  Delivery_location_latitude  \\\n",
       "0            30.327968             78.046106                   30.397968   \n",
       "1            10.003064             76.307589                   10.043064   \n",
       "2            18.562450             73.916619                   18.652450   \n",
       "3            30.899584             75.809346                   30.919584   \n",
       "4            26.463504             80.372929                   26.593504   \n",
       "\n",
       "   Delivery_location_longitude  Order_Date Time_Orderd Time_Order_picked  \\\n",
       "0                    78.116106  12-02-2022       21:55             22:10   \n",
       "1                    76.347589  13-02-2022       14:55             15:05   \n",
       "2                    74.006619  04-03-2022       17:30             17:40   \n",
       "3                    75.829346  13-02-2022       09:20             09:30   \n",
       "4                    80.502929  14-02-2022       19:50             20:05   \n",
       "\n",
       "   Weather_conditions  Road_traffic_density  Vehicle_condition Type_of_order  \\\n",
       "0                 3.0                   4.0                  2         Snack   \n",
       "1                 5.0                   3.0                  1          Meal   \n",
       "2                 4.0                   2.0                  1        Drinks   \n",
       "3                 4.0                   1.0                  0        Buffet   \n",
       "4                 3.0                   4.0                  1         Snack   \n",
       "\n",
       "  Type_of_vehicle  multiple_deliveries  Festival  City  Time_taken (min)  \n",
       "0      motorcycle                  3.0       0.0   3.0                46  \n",
       "1      motorcycle                  1.0       0.0   3.0                23  \n",
       "2         scooter                  1.0       0.0   3.0                21  \n",
       "3      motorcycle                  0.0       0.0   3.0                20  \n",
       "4         scooter                  1.0       0.0   3.0                41  "
      ]
     },
     "execution_count": 3,
     "metadata": {},
     "output_type": "execute_result"
    }
   ],
   "source": [
    "df = pd.read_csv('dataset.csv')\n",
    "df.head()"
   ]
  },
  {
   "cell_type": "code",
   "execution_count": 4,
   "id": "dfcc5131-3f34-4817-ac1f-932d45c1c8b5",
   "metadata": {},
   "outputs": [
    {
     "name": "stdout",
     "output_type": "stream",
     "text": [
      "[3. 5. 4. 2. 1.]\n",
      "[4. 3. 2. 1.]\n",
      "[0. 1.]\n",
      "[3. 2. 1.]\n"
     ]
    }
   ],
   "source": [
    "print(df['Weather_conditions'].unique())\n",
    "print(df['Road_traffic_density'].unique())\n",
    "print(df['Festival'].unique())\n",
    "print(df['City'].unique())"
   ]
  },
  {
   "cell_type": "code",
   "execution_count": 5,
   "id": "e36b2092-1b4a-4e55-a6c9-e2583a6235ef",
   "metadata": {},
   "outputs": [],
   "source": [
    "df['Weather_conditions'] = df['Weather_conditions'].replace({'Sunny': 1, 'Cloudy': 1, 'Windy' : 2, 'Fog' : 3, 'Sandstorms' : 4, 'Stormy' : 5})\n",
    "df['Road_traffic_density'] = df['Road_traffic_density'].replace({'Low' : 1, 'Medium' : 2, 'High' : 3, 'Jam' : 4})\n",
    "df['Festival'] = df['Festival'].replace({'Yes' : 1, 'No' : 0})\n",
    "df['City'] = df['City'].replace({'Metropolitian' : 3, 'Urban' : 2, 'Semi-Urban' : 1})"
   ]
  },
  {
   "cell_type": "code",
   "execution_count": 6,
   "id": "0511ac7d-8054-4459-9a5f-5e0d4e019359",
   "metadata": {},
   "outputs": [
    {
     "data": {
      "text/plain": [
       "Index(['ID', 'Delivery_person_ID', 'Delivery_person_Age',\n",
       "       'Delivery_person_Ratings', 'Restaurant_latitude',\n",
       "       'Restaurant_longitude', 'Delivery_location_latitude',\n",
       "       'Delivery_location_longitude', 'Order_Date', 'Time_Orderd',\n",
       "       'Time_Order_picked', 'Weather_conditions', 'Road_traffic_density',\n",
       "       'Vehicle_condition', 'Type_of_order', 'Type_of_vehicle',\n",
       "       'multiple_deliveries', 'Festival', 'City', 'Time_taken (min)'],\n",
       "      dtype='object')"
      ]
     },
     "execution_count": 6,
     "metadata": {},
     "output_type": "execute_result"
    }
   ],
   "source": [
    "df.columns = df.columns.str.strip()\n",
    "df.columns"
   ]
  },
  {
   "cell_type": "code",
   "execution_count": 7,
   "id": "c24fbfb6-866c-4ce0-8c01-fe6529481076",
   "metadata": {},
   "outputs": [
    {
     "data": {
      "text/plain": [
       "(38055, 20)"
      ]
     },
     "execution_count": 7,
     "metadata": {},
     "output_type": "execute_result"
    }
   ],
   "source": [
    "df.shape"
   ]
  },
  {
   "cell_type": "code",
   "execution_count": 8,
   "id": "820179f5-b7f9-4a2e-ae0f-fd849c3ebc86",
   "metadata": {},
   "outputs": [],
   "source": [
    "df.dropna(inplace = True)"
   ]
  },
  {
   "cell_type": "code",
   "execution_count": 9,
   "id": "45779c68-4a98-4b2b-bf5c-70c2930600a7",
   "metadata": {},
   "outputs": [
    {
     "data": {
      "text/plain": [
       "(38055, 20)"
      ]
     },
     "execution_count": 9,
     "metadata": {},
     "output_type": "execute_result"
    }
   ],
   "source": [
    "df.shape"
   ]
  },
  {
   "cell_type": "code",
   "execution_count": 10,
   "id": "430e16ca-600e-4a01-b58b-918e50a87f9a",
   "metadata": {},
   "outputs": [],
   "source": [
    "df = df[~((df[\"Restaurant_latitude\"] == 0) & (df[\"Restaurant_longitude\"] == 0))]  \n",
    "df = df[~((df[\"Delivery_location_latitude\"] == 0) & (df[\"Delivery_location_longitude\"] == 0))]  \n",
    "\n",
    "df.to_csv('dataset.csv', index=False)"
   ]
  },
  {
   "cell_type": "code",
   "execution_count": 11,
   "id": "6337f40d-fbbf-4059-bd79-83ab8bf38e85",
   "metadata": {},
   "outputs": [],
   "source": [
    "columns_to_extract = [\"Restaurant_latitude\", \"Restaurant_longitude\", \n",
    "                      \"Delivery_location_latitude\", \"Delivery_location_longitude\"]\n",
    "df_selected = df[columns_to_extract]\n",
    "\n",
    "df_selected.to_csv(\"output.csv\", index=False)"
   ]
  },
  {
   "cell_type": "code",
   "execution_count": 12,
   "id": "63a752ce-b1e6-4326-9024-4b0e3cbd9f59",
   "metadata": {},
   "outputs": [
    {
     "name": "stdout",
     "output_type": "stream",
     "text": [
      "(146, 20)\n"
     ]
    },
    {
     "data": {
      "text/html": [
       "<div>\n",
       "<style scoped>\n",
       "    .dataframe tbody tr th:only-of-type {\n",
       "        vertical-align: middle;\n",
       "    }\n",
       "\n",
       "    .dataframe tbody tr th {\n",
       "        vertical-align: top;\n",
       "    }\n",
       "\n",
       "    .dataframe thead th {\n",
       "        text-align: right;\n",
       "    }\n",
       "</style>\n",
       "<table border=\"1\" class=\"dataframe\">\n",
       "  <thead>\n",
       "    <tr style=\"text-align: right;\">\n",
       "      <th></th>\n",
       "      <th>ID</th>\n",
       "      <th>Delivery_person_ID</th>\n",
       "      <th>Delivery_person_Age</th>\n",
       "      <th>Delivery_person_Ratings</th>\n",
       "      <th>Restaurant_latitude</th>\n",
       "      <th>Restaurant_longitude</th>\n",
       "      <th>Delivery_location_latitude</th>\n",
       "      <th>Delivery_location_longitude</th>\n",
       "      <th>Order_Date</th>\n",
       "      <th>Time_Orderd</th>\n",
       "      <th>Time_Order_picked</th>\n",
       "      <th>Weather_conditions</th>\n",
       "      <th>Road_traffic_density</th>\n",
       "      <th>Vehicle_condition</th>\n",
       "      <th>Type_of_order</th>\n",
       "      <th>Type_of_vehicle</th>\n",
       "      <th>multiple_deliveries</th>\n",
       "      <th>Festival</th>\n",
       "      <th>City</th>\n",
       "      <th>Time_taken (min)</th>\n",
       "    </tr>\n",
       "  </thead>\n",
       "  <tbody>\n",
       "    <tr>\n",
       "      <th>68</th>\n",
       "      <td>0xc042</td>\n",
       "      <td>AGRRES010DEL01</td>\n",
       "      <td>34.0</td>\n",
       "      <td>4.7</td>\n",
       "      <td>-27.163303</td>\n",
       "      <td>78.057044</td>\n",
       "      <td>27.233303</td>\n",
       "      <td>78.127044</td>\n",
       "      <td>16-02-2022</td>\n",
       "      <td>0.958333333</td>\n",
       "      <td>23:05</td>\n",
       "      <td>4.0</td>\n",
       "      <td>1.0</td>\n",
       "      <td>1</td>\n",
       "      <td>Drinks</td>\n",
       "      <td>scooter</td>\n",
       "      <td>0.0</td>\n",
       "      <td>0.0</td>\n",
       "      <td>3.0</td>\n",
       "      <td>15</td>\n",
       "    </tr>\n",
       "    <tr>\n",
       "      <th>223</th>\n",
       "      <td>0xc044</td>\n",
       "      <td>AGRRES12DEL03</td>\n",
       "      <td>32.0</td>\n",
       "      <td>4.7</td>\n",
       "      <td>-27.165108</td>\n",
       "      <td>78.015053</td>\n",
       "      <td>27.225108</td>\n",
       "      <td>78.075053</td>\n",
       "      <td>13-02-2022</td>\n",
       "      <td>20:55</td>\n",
       "      <td>21:10</td>\n",
       "      <td>4.0</td>\n",
       "      <td>4.0</td>\n",
       "      <td>2</td>\n",
       "      <td>Meal</td>\n",
       "      <td>scooter</td>\n",
       "      <td>1.0</td>\n",
       "      <td>0.0</td>\n",
       "      <td>3.0</td>\n",
       "      <td>31</td>\n",
       "    </tr>\n",
       "    <tr>\n",
       "      <th>895</th>\n",
       "      <td>0xc086</td>\n",
       "      <td>GOARES010DEL03</td>\n",
       "      <td>20.0</td>\n",
       "      <td>4.7</td>\n",
       "      <td>-15.546594</td>\n",
       "      <td>73.760431</td>\n",
       "      <td>15.606594</td>\n",
       "      <td>73.820431</td>\n",
       "      <td>13-02-2022</td>\n",
       "      <td>0.833333333</td>\n",
       "      <td>20:10</td>\n",
       "      <td>1.0</td>\n",
       "      <td>4.0</td>\n",
       "      <td>2</td>\n",
       "      <td>Drinks</td>\n",
       "      <td>motorcycle</td>\n",
       "      <td>1.0</td>\n",
       "      <td>0.0</td>\n",
       "      <td>3.0</td>\n",
       "      <td>29</td>\n",
       "    </tr>\n",
       "    <tr>\n",
       "      <th>1454</th>\n",
       "      <td>0xc067</td>\n",
       "      <td>BHPRES13DEL02</td>\n",
       "      <td>39.0</td>\n",
       "      <td>4.5</td>\n",
       "      <td>-23.230791</td>\n",
       "      <td>77.437020</td>\n",
       "      <td>23.250791</td>\n",
       "      <td>77.457020</td>\n",
       "      <td>13-02-2022</td>\n",
       "      <td>09:15</td>\n",
       "      <td>09:20</td>\n",
       "      <td>1.0</td>\n",
       "      <td>1.0</td>\n",
       "      <td>0</td>\n",
       "      <td>Meal</td>\n",
       "      <td>motorcycle</td>\n",
       "      <td>1.0</td>\n",
       "      <td>0.0</td>\n",
       "      <td>3.0</td>\n",
       "      <td>29</td>\n",
       "    </tr>\n",
       "    <tr>\n",
       "      <th>1617</th>\n",
       "      <td>0xc061</td>\n",
       "      <td>KOLRES16DEL01</td>\n",
       "      <td>25.0</td>\n",
       "      <td>4.0</td>\n",
       "      <td>-22.539129</td>\n",
       "      <td>88.365507</td>\n",
       "      <td>22.549129</td>\n",
       "      <td>88.375507</td>\n",
       "      <td>15-02-2022</td>\n",
       "      <td>09:25</td>\n",
       "      <td>09:30</td>\n",
       "      <td>4.0</td>\n",
       "      <td>1.0</td>\n",
       "      <td>0</td>\n",
       "      <td>Buffet</td>\n",
       "      <td>motorcycle</td>\n",
       "      <td>0.0</td>\n",
       "      <td>0.0</td>\n",
       "      <td>3.0</td>\n",
       "      <td>19</td>\n",
       "    </tr>\n",
       "  </tbody>\n",
       "</table>\n",
       "</div>"
      ],
      "text/plain": [
       "          ID Delivery_person_ID  Delivery_person_Age  Delivery_person_Ratings  \\\n",
       "68    0xc042     AGRRES010DEL01                 34.0                      4.7   \n",
       "223   0xc044      AGRRES12DEL03                 32.0                      4.7   \n",
       "895   0xc086     GOARES010DEL03                 20.0                      4.7   \n",
       "1454  0xc067      BHPRES13DEL02                 39.0                      4.5   \n",
       "1617  0xc061      KOLRES16DEL01                 25.0                      4.0   \n",
       "\n",
       "      Restaurant_latitude  Restaurant_longitude  Delivery_location_latitude  \\\n",
       "68             -27.163303             78.057044                   27.233303   \n",
       "223            -27.165108             78.015053                   27.225108   \n",
       "895            -15.546594             73.760431                   15.606594   \n",
       "1454           -23.230791             77.437020                   23.250791   \n",
       "1617           -22.539129             88.365507                   22.549129   \n",
       "\n",
       "      Delivery_location_longitude  Order_Date  Time_Orderd Time_Order_picked  \\\n",
       "68                      78.127044  16-02-2022  0.958333333             23:05   \n",
       "223                     78.075053  13-02-2022        20:55             21:10   \n",
       "895                     73.820431  13-02-2022  0.833333333             20:10   \n",
       "1454                    77.457020  13-02-2022        09:15             09:20   \n",
       "1617                    88.375507  15-02-2022        09:25             09:30   \n",
       "\n",
       "      Weather_conditions  Road_traffic_density  Vehicle_condition  \\\n",
       "68                   4.0                   1.0                  1   \n",
       "223                  4.0                   4.0                  2   \n",
       "895                  1.0                   4.0                  2   \n",
       "1454                 1.0                   1.0                  0   \n",
       "1617                 4.0                   1.0                  0   \n",
       "\n",
       "     Type_of_order Type_of_vehicle  multiple_deliveries  Festival  City  \\\n",
       "68          Drinks         scooter                  0.0       0.0   3.0   \n",
       "223           Meal         scooter                  1.0       0.0   3.0   \n",
       "895         Drinks      motorcycle                  1.0       0.0   3.0   \n",
       "1454          Meal      motorcycle                  1.0       0.0   3.0   \n",
       "1617        Buffet      motorcycle                  0.0       0.0   3.0   \n",
       "\n",
       "      Time_taken (min)  \n",
       "68                  15  \n",
       "223                 31  \n",
       "895                 29  \n",
       "1454                29  \n",
       "1617                19  "
      ]
     },
     "metadata": {},
     "output_type": "display_data"
    }
   ],
   "source": [
    "df_outliers = df[\n",
    "    (df[\"Restaurant_latitude\"] < 6) | (df[\"Restaurant_latitude\"] > 37) |\n",
    "    (df[\"Restaurant_longitude\"] < 68) | (df[\"Restaurant_longitude\"] > 97) |\n",
    "    (df[\"Delivery_location_latitude\"] < 6) | (df[\"Delivery_location_latitude\"] > 37) |\n",
    "    (df[\"Delivery_location_longitude\"] < 68) | (df[\"Delivery_location_longitude\"] > 97)\n",
    "]\n",
    "print(df_outliers.shape)  \n",
    "display(df_outliers.head()) "
   ]
  },
  {
   "cell_type": "code",
   "execution_count": 13,
   "id": "5c2d89d6-1cff-4cbe-8542-9f64cf553bfe",
   "metadata": {},
   "outputs": [],
   "source": [
    "df = df.drop(df_outliers.index).reset_index(drop=True)"
   ]
  },
  {
   "cell_type": "code",
   "execution_count": 14,
   "id": "b4a8bb31-ea0e-48a5-8a4d-0aac8d5d054f",
   "metadata": {},
   "outputs": [
    {
     "data": {
      "text/plain": [
       "(37909, 20)"
      ]
     },
     "execution_count": 14,
     "metadata": {},
     "output_type": "execute_result"
    }
   ],
   "source": [
    "df.shape"
   ]
  },
  {
   "cell_type": "code",
   "execution_count": 15,
   "id": "9bd78b47-fe8a-4159-844f-74a094239870",
   "metadata": {},
   "outputs": [
    {
     "name": "stdout",
     "output_type": "stream",
     "text": [
      "0\n",
      "33564\n"
     ]
    }
   ],
   "source": [
    "print(df.duplicated().sum()) \n",
    "print(df.duplicated(subset=[\"Restaurant_latitude\", \"Restaurant_longitude\", \n",
    "                            \"Delivery_location_latitude\", \"Delivery_location_longitude\"]).sum()) "
   ]
  },
  {
   "cell_type": "code",
   "execution_count": 16,
   "id": "8a42a00a-395c-4046-bb62-216b024a13f7",
   "metadata": {},
   "outputs": [
    {
     "name": "stdout",
     "output_type": "stream",
     "text": [
      "(0, 21)\n"
     ]
    },
    {
     "data": {
      "text/html": [
       "<div>\n",
       "<style scoped>\n",
       "    .dataframe tbody tr th:only-of-type {\n",
       "        vertical-align: middle;\n",
       "    }\n",
       "\n",
       "    .dataframe tbody tr th {\n",
       "        vertical-align: top;\n",
       "    }\n",
       "\n",
       "    .dataframe thead th {\n",
       "        text-align: right;\n",
       "    }\n",
       "</style>\n",
       "<table border=\"1\" class=\"dataframe\">\n",
       "  <thead>\n",
       "    <tr style=\"text-align: right;\">\n",
       "      <th></th>\n",
       "      <th>ID</th>\n",
       "      <th>Delivery_person_ID</th>\n",
       "      <th>Delivery_person_Age</th>\n",
       "      <th>Delivery_person_Ratings</th>\n",
       "      <th>Restaurant_latitude</th>\n",
       "      <th>Restaurant_longitude</th>\n",
       "      <th>Delivery_location_latitude</th>\n",
       "      <th>Delivery_location_longitude</th>\n",
       "      <th>Order_Date</th>\n",
       "      <th>Time_Orderd</th>\n",
       "      <th>...</th>\n",
       "      <th>Weather_conditions</th>\n",
       "      <th>Road_traffic_density</th>\n",
       "      <th>Vehicle_condition</th>\n",
       "      <th>Type_of_order</th>\n",
       "      <th>Type_of_vehicle</th>\n",
       "      <th>multiple_deliveries</th>\n",
       "      <th>Festival</th>\n",
       "      <th>City</th>\n",
       "      <th>Time_taken (min)</th>\n",
       "      <th>approx_distance_km</th>\n",
       "    </tr>\n",
       "  </thead>\n",
       "  <tbody>\n",
       "  </tbody>\n",
       "</table>\n",
       "<p>0 rows × 21 columns</p>\n",
       "</div>"
      ],
      "text/plain": [
       "Empty DataFrame\n",
       "Columns: [ID, Delivery_person_ID, Delivery_person_Age, Delivery_person_Ratings, Restaurant_latitude, Restaurant_longitude, Delivery_location_latitude, Delivery_location_longitude, Order_Date, Time_Orderd, Time_Order_picked, Weather_conditions, Road_traffic_density, Vehicle_condition, Type_of_order, Type_of_vehicle, multiple_deliveries, Festival, City, Time_taken (min), approx_distance_km]\n",
       "Index: []\n",
       "\n",
       "[0 rows x 21 columns]"
      ]
     },
     "metadata": {},
     "output_type": "display_data"
    }
   ],
   "source": [
    "df[\"approx_distance_km\"] = ((df[\"Restaurant_latitude\"] - df[\"Delivery_location_latitude\"])**2 + \n",
    "                            (df[\"Restaurant_longitude\"] - df[\"Delivery_location_longitude\"])**2)**0.5 * 111  # Rough km estimate\n",
    "\n",
    "df_weird_distances = df[df[\"approx_distance_km\"] > 500]\n",
    "print(df_weird_distances.shape)\n",
    "display(df_weird_distances.head())"
   ]
  },
  {
   "cell_type": "code",
   "execution_count": 17,
   "id": "d3c7ae3f-5079-41b5-b6ed-f3293b0dcea5",
   "metadata": {},
   "outputs": [
    {
     "name": "stdout",
     "output_type": "stream",
     "text": [
      "✅ output.csv saved with order IDs.\n",
      "(37909, 5)\n"
     ]
    }
   ],
   "source": [
    "api_input_df = df[[\"ID\", \"Restaurant_latitude\", \"Restaurant_longitude\", \n",
    "                    \"Delivery_location_latitude\", \"Delivery_location_longitude\"]].copy()\n",
    "\n",
    "api_input_df.to_csv(\"output.csv\", index=False)\n",
    "print(\"✅ output.csv saved with order IDs.\")\n",
    "print(api_input_df.shape)"
   ]
  },
  {
   "cell_type": "code",
   "execution_count": 18,
   "id": "5e81b5fd-2103-4649-96fc-7ff9cbf7d486",
   "metadata": {},
   "outputs": [],
   "source": [
    "df.reset_index(drop=True, inplace=True)"
   ]
  },
  {
   "cell_type": "code",
   "execution_count": 19,
   "id": "5aa22bca-8383-4f31-badf-ccc8c5e69913",
   "metadata": {},
   "outputs": [
    {
     "name": "stdout",
     "output_type": "stream",
     "text": [
      "(37909, 21)\n"
     ]
    }
   ],
   "source": [
    "df = df.copy()\n",
    "print(df.shape)"
   ]
  },
  {
   "cell_type": "code",
   "execution_count": 20,
   "id": "98031719-8160-47dd-b39d-4e7d3f404a8b",
   "metadata": {},
   "outputs": [
    {
     "name": "stdout",
     "output_type": "stream",
     "text": [
      "(37909, 21)\n"
     ]
    }
   ],
   "source": [
    "df = df.reset_index(drop=True)\n",
    "print(df.shape)"
   ]
  },
  {
   "cell_type": "code",
   "execution_count": 21,
   "id": "c6da02c7-01af-4f44-a91f-52446a70b9c8",
   "metadata": {},
   "outputs": [],
   "source": [
    "api_results_df = pd.read_csv('api_results.csv')"
   ]
  },
  {
   "cell_type": "code",
   "execution_count": 22,
   "id": "6f2730f3-9e14-4587-abc6-e17659b508db",
   "metadata": {},
   "outputs": [],
   "source": [
    "df = df.merge(api_results_df, on=\"ID\", how=\"left\")  "
   ]
  },
  {
   "cell_type": "code",
   "execution_count": 23,
   "id": "474b4670-785f-4e86-a5ad-1c27bd4560c3",
   "metadata": {},
   "outputs": [],
   "source": [
    "df[\"distance_m\"] /= 1000"
   ]
  },
  {
   "cell_type": "code",
   "execution_count": 24,
   "id": "b268fac7-ab0f-4424-93cc-6f1c742e945e",
   "metadata": {},
   "outputs": [],
   "source": [
    "df.rename(columns={\"distance_m\": \"distance_km\"}, inplace=True)"
   ]
  },
  {
   "cell_type": "code",
   "execution_count": 25,
   "id": "d99c8109-8aa8-4b90-957a-a3a3fbf7125f",
   "metadata": {},
   "outputs": [],
   "source": [
    "df['duration_sec'] /= 60\n",
    "df.rename(columns = {'duration_sec': 'travel_time'}, inplace = True)"
   ]
  },
  {
   "cell_type": "code",
   "execution_count": 26,
   "id": "b54de94d-89f1-4310-8deb-2f483f30d164",
   "metadata": {},
   "outputs": [],
   "source": [
    "df.drop('Delivery_person_ID', axis = 1, inplace = True)\n",
    "df.drop('Delivery_person_Age', axis = 1, inplace = True)\n",
    "df.drop('Delivery_person_Ratings', axis = 1, inplace = True)\n",
    "df.drop('Type_of_order', axis = 1, inplace = True)\n",
    "df.drop('Type_of_vehicle', axis = 1, inplace = True)"
   ]
  },
  {
   "cell_type": "code",
   "execution_count": 27,
   "id": "a344368f-dce3-409d-9a01-952f8c18a432",
   "metadata": {},
   "outputs": [
    {
     "data": {
      "text/html": [
       "<div>\n",
       "<style scoped>\n",
       "    .dataframe tbody tr th:only-of-type {\n",
       "        vertical-align: middle;\n",
       "    }\n",
       "\n",
       "    .dataframe tbody tr th {\n",
       "        vertical-align: top;\n",
       "    }\n",
       "\n",
       "    .dataframe thead th {\n",
       "        text-align: right;\n",
       "    }\n",
       "</style>\n",
       "<table border=\"1\" class=\"dataframe\">\n",
       "  <thead>\n",
       "    <tr style=\"text-align: right;\">\n",
       "      <th></th>\n",
       "      <th>ID</th>\n",
       "      <th>Restaurant_latitude</th>\n",
       "      <th>Restaurant_longitude</th>\n",
       "      <th>Delivery_location_latitude</th>\n",
       "      <th>Delivery_location_longitude</th>\n",
       "      <th>Order_Date</th>\n",
       "      <th>Time_Orderd</th>\n",
       "      <th>Time_Order_picked</th>\n",
       "      <th>Weather_conditions</th>\n",
       "      <th>Road_traffic_density</th>\n",
       "      <th>Vehicle_condition</th>\n",
       "      <th>multiple_deliveries</th>\n",
       "      <th>Festival</th>\n",
       "      <th>City</th>\n",
       "      <th>Time_taken (min)</th>\n",
       "      <th>approx_distance_km</th>\n",
       "      <th>travel_time</th>\n",
       "      <th>distance_km</th>\n",
       "    </tr>\n",
       "  </thead>\n",
       "  <tbody>\n",
       "    <tr>\n",
       "      <th>0</th>\n",
       "      <td>0xcdcd</td>\n",
       "      <td>30.327968</td>\n",
       "      <td>78.046106</td>\n",
       "      <td>30.397968</td>\n",
       "      <td>78.116106</td>\n",
       "      <td>12-02-2022</td>\n",
       "      <td>21:55</td>\n",
       "      <td>22:10</td>\n",
       "      <td>3.0</td>\n",
       "      <td>4.0</td>\n",
       "      <td>2</td>\n",
       "      <td>3.0</td>\n",
       "      <td>0.0</td>\n",
       "      <td>3.0</td>\n",
       "      <td>46</td>\n",
       "      <td>10.988439</td>\n",
       "      <td>28.450000</td>\n",
       "      <td>16.8077</td>\n",
       "    </tr>\n",
       "    <tr>\n",
       "      <th>1</th>\n",
       "      <td>0xd987</td>\n",
       "      <td>10.003064</td>\n",
       "      <td>76.307589</td>\n",
       "      <td>10.043064</td>\n",
       "      <td>76.347589</td>\n",
       "      <td>13-02-2022</td>\n",
       "      <td>14:55</td>\n",
       "      <td>15:05</td>\n",
       "      <td>5.0</td>\n",
       "      <td>3.0</td>\n",
       "      <td>1</td>\n",
       "      <td>1.0</td>\n",
       "      <td>0.0</td>\n",
       "      <td>3.0</td>\n",
       "      <td>23</td>\n",
       "      <td>6.279108</td>\n",
       "      <td>13.115000</td>\n",
       "      <td>8.8577</td>\n",
       "    </tr>\n",
       "    <tr>\n",
       "      <th>2</th>\n",
       "      <td>0x2784</td>\n",
       "      <td>18.562450</td>\n",
       "      <td>73.916619</td>\n",
       "      <td>18.652450</td>\n",
       "      <td>74.006619</td>\n",
       "      <td>04-03-2022</td>\n",
       "      <td>17:30</td>\n",
       "      <td>17:40</td>\n",
       "      <td>4.0</td>\n",
       "      <td>2.0</td>\n",
       "      <td>1</td>\n",
       "      <td>1.0</td>\n",
       "      <td>0.0</td>\n",
       "      <td>3.0</td>\n",
       "      <td>21</td>\n",
       "      <td>14.127993</td>\n",
       "      <td>18.655000</td>\n",
       "      <td>21.3843</td>\n",
       "    </tr>\n",
       "    <tr>\n",
       "      <th>3</th>\n",
       "      <td>0xc8b6</td>\n",
       "      <td>30.899584</td>\n",
       "      <td>75.809346</td>\n",
       "      <td>30.919584</td>\n",
       "      <td>75.829346</td>\n",
       "      <td>13-02-2022</td>\n",
       "      <td>09:20</td>\n",
       "      <td>09:30</td>\n",
       "      <td>4.0</td>\n",
       "      <td>1.0</td>\n",
       "      <td>0</td>\n",
       "      <td>0.0</td>\n",
       "      <td>0.0</td>\n",
       "      <td>3.0</td>\n",
       "      <td>20</td>\n",
       "      <td>3.139554</td>\n",
       "      <td>8.308333</td>\n",
       "      <td>4.8283</td>\n",
       "    </tr>\n",
       "    <tr>\n",
       "      <th>4</th>\n",
       "      <td>0xdb64</td>\n",
       "      <td>26.463504</td>\n",
       "      <td>80.372929</td>\n",
       "      <td>26.593504</td>\n",
       "      <td>80.502929</td>\n",
       "      <td>14-02-2022</td>\n",
       "      <td>19:50</td>\n",
       "      <td>20:05</td>\n",
       "      <td>3.0</td>\n",
       "      <td>4.0</td>\n",
       "      <td>1</td>\n",
       "      <td>1.0</td>\n",
       "      <td>0.0</td>\n",
       "      <td>3.0</td>\n",
       "      <td>41</td>\n",
       "      <td>20.407102</td>\n",
       "      <td>24.350000</td>\n",
       "      <td>23.4788</td>\n",
       "    </tr>\n",
       "  </tbody>\n",
       "</table>\n",
       "</div>"
      ],
      "text/plain": [
       "       ID  Restaurant_latitude  Restaurant_longitude  \\\n",
       "0  0xcdcd            30.327968             78.046106   \n",
       "1  0xd987            10.003064             76.307589   \n",
       "2  0x2784            18.562450             73.916619   \n",
       "3  0xc8b6            30.899584             75.809346   \n",
       "4  0xdb64            26.463504             80.372929   \n",
       "\n",
       "   Delivery_location_latitude  Delivery_location_longitude  Order_Date  \\\n",
       "0                   30.397968                    78.116106  12-02-2022   \n",
       "1                   10.043064                    76.347589  13-02-2022   \n",
       "2                   18.652450                    74.006619  04-03-2022   \n",
       "3                   30.919584                    75.829346  13-02-2022   \n",
       "4                   26.593504                    80.502929  14-02-2022   \n",
       "\n",
       "  Time_Orderd Time_Order_picked  Weather_conditions  Road_traffic_density  \\\n",
       "0       21:55             22:10                 3.0                   4.0   \n",
       "1       14:55             15:05                 5.0                   3.0   \n",
       "2       17:30             17:40                 4.0                   2.0   \n",
       "3       09:20             09:30                 4.0                   1.0   \n",
       "4       19:50             20:05                 3.0                   4.0   \n",
       "\n",
       "   Vehicle_condition  multiple_deliveries  Festival  City  Time_taken (min)  \\\n",
       "0                  2                  3.0       0.0   3.0                46   \n",
       "1                  1                  1.0       0.0   3.0                23   \n",
       "2                  1                  1.0       0.0   3.0                21   \n",
       "3                  0                  0.0       0.0   3.0                20   \n",
       "4                  1                  1.0       0.0   3.0                41   \n",
       "\n",
       "   approx_distance_km  travel_time  distance_km  \n",
       "0           10.988439    28.450000      16.8077  \n",
       "1            6.279108    13.115000       8.8577  \n",
       "2           14.127993    18.655000      21.3843  \n",
       "3            3.139554     8.308333       4.8283  \n",
       "4           20.407102    24.350000      23.4788  "
      ]
     },
     "execution_count": 27,
     "metadata": {},
     "output_type": "execute_result"
    }
   ],
   "source": [
    "df.head()"
   ]
  },
  {
   "cell_type": "code",
   "execution_count": 34,
   "id": "3af5afd3-3649-4720-83d2-05618393d5c3",
   "metadata": {},
   "outputs": [],
   "source": [
    "df.to_csv('clean_data.csv')"
   ]
  }
 ],
 "metadata": {
  "kernelspec": {
   "display_name": "Python 3 (ipykernel)",
   "language": "python",
   "name": "python3"
  },
  "language_info": {
   "codemirror_mode": {
    "name": "ipython",
    "version": 3
   },
   "file_extension": ".py",
   "mimetype": "text/x-python",
   "name": "python",
   "nbconvert_exporter": "python",
   "pygments_lexer": "ipython3",
   "version": "3.11.4"
  }
 },
 "nbformat": 4,
 "nbformat_minor": 5
}