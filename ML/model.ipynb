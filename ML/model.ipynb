{
 "cells": [
  {
   "cell_type": "code",
   "execution_count": 1,
   "id": "2607b0e2-193d-4777-9588-638be5893d50",
   "metadata": {},
   "outputs": [],
   "source": [
    "import pandas as pd\n",
    "import numpy as np"
   ]
  },
  {
   "cell_type": "code",
   "execution_count": 2,
   "id": "a004651d-f156-4950-a8f4-989a60793f23",
   "metadata": {},
   "outputs": [
    {
     "data": {
      "text/html": [
       "<div>\n",
       "<style scoped>\n",
       "    .dataframe tbody tr th:only-of-type {\n",
       "        vertical-align: middle;\n",
       "    }\n",
       "\n",
       "    .dataframe tbody tr th {\n",
       "        vertical-align: top;\n",
       "    }\n",
       "\n",
       "    .dataframe thead th {\n",
       "        text-align: right;\n",
       "    }\n",
       "</style>\n",
       "<table border=\"1\" class=\"dataframe\">\n",
       "  <thead>\n",
       "    <tr style=\"text-align: right;\">\n",
       "      <th></th>\n",
       "      <th>Unnamed: 0</th>\n",
       "      <th>ID</th>\n",
       "      <th>Restaurant_latitude</th>\n",
       "      <th>Restaurant_longitude</th>\n",
       "      <th>Delivery_location_latitude</th>\n",
       "      <th>Delivery_location_longitude</th>\n",
       "      <th>Order_Date</th>\n",
       "      <th>Time_Orderd</th>\n",
       "      <th>Time_Order_picked</th>\n",
       "      <th>Weather_conditions</th>\n",
       "      <th>Road_traffic_density</th>\n",
       "      <th>Vehicle_condition</th>\n",
       "      <th>multiple_deliveries</th>\n",
       "      <th>Festival</th>\n",
       "      <th>City</th>\n",
       "      <th>Time_taken (min)</th>\n",
       "      <th>approx_distance_km</th>\n",
       "      <th>travel_time</th>\n",
       "      <th>distance_km</th>\n",
       "    </tr>\n",
       "  </thead>\n",
       "  <tbody>\n",
       "    <tr>\n",
       "      <th>0</th>\n",
       "      <td>0</td>\n",
       "      <td>0xcdcd</td>\n",
       "      <td>30.327968</td>\n",
       "      <td>78.046106</td>\n",
       "      <td>30.397968</td>\n",
       "      <td>78.116106</td>\n",
       "      <td>12-02-2022</td>\n",
       "      <td>21:55</td>\n",
       "      <td>22:10</td>\n",
       "      <td>3.0</td>\n",
       "      <td>4.0</td>\n",
       "      <td>2</td>\n",
       "      <td>3.0</td>\n",
       "      <td>0.0</td>\n",
       "      <td>3.0</td>\n",
       "      <td>46</td>\n",
       "      <td>10.988439</td>\n",
       "      <td>28.450000</td>\n",
       "      <td>16.8077</td>\n",
       "    </tr>\n",
       "    <tr>\n",
       "      <th>1</th>\n",
       "      <td>1</td>\n",
       "      <td>0xd987</td>\n",
       "      <td>10.003064</td>\n",
       "      <td>76.307589</td>\n",
       "      <td>10.043064</td>\n",
       "      <td>76.347589</td>\n",
       "      <td>13-02-2022</td>\n",
       "      <td>14:55</td>\n",
       "      <td>15:05</td>\n",
       "      <td>5.0</td>\n",
       "      <td>3.0</td>\n",
       "      <td>1</td>\n",
       "      <td>1.0</td>\n",
       "      <td>0.0</td>\n",
       "      <td>3.0</td>\n",
       "      <td>23</td>\n",
       "      <td>6.279108</td>\n",
       "      <td>13.115000</td>\n",
       "      <td>8.8577</td>\n",
       "    </tr>\n",
       "    <tr>\n",
       "      <th>2</th>\n",
       "      <td>2</td>\n",
       "      <td>0x2784</td>\n",
       "      <td>18.562450</td>\n",
       "      <td>73.916619</td>\n",
       "      <td>18.652450</td>\n",
       "      <td>74.006619</td>\n",
       "      <td>04-03-2022</td>\n",
       "      <td>17:30</td>\n",
       "      <td>17:40</td>\n",
       "      <td>4.0</td>\n",
       "      <td>2.0</td>\n",
       "      <td>1</td>\n",
       "      <td>1.0</td>\n",
       "      <td>0.0</td>\n",
       "      <td>3.0</td>\n",
       "      <td>21</td>\n",
       "      <td>14.127993</td>\n",
       "      <td>18.655000</td>\n",
       "      <td>21.3843</td>\n",
       "    </tr>\n",
       "    <tr>\n",
       "      <th>3</th>\n",
       "      <td>3</td>\n",
       "      <td>0xc8b6</td>\n",
       "      <td>30.899584</td>\n",
       "      <td>75.809346</td>\n",
       "      <td>30.919584</td>\n",
       "      <td>75.829346</td>\n",
       "      <td>13-02-2022</td>\n",
       "      <td>09:20</td>\n",
       "      <td>09:30</td>\n",
       "      <td>4.0</td>\n",
       "      <td>1.0</td>\n",
       "      <td>0</td>\n",
       "      <td>0.0</td>\n",
       "      <td>0.0</td>\n",
       "      <td>3.0</td>\n",
       "      <td>20</td>\n",
       "      <td>3.139554</td>\n",
       "      <td>8.308333</td>\n",
       "      <td>4.8283</td>\n",
       "    </tr>\n",
       "    <tr>\n",
       "      <th>4</th>\n",
       "      <td>4</td>\n",
       "      <td>0xdb64</td>\n",
       "      <td>26.463504</td>\n",
       "      <td>80.372929</td>\n",
       "      <td>26.593504</td>\n",
       "      <td>80.502929</td>\n",
       "      <td>14-02-2022</td>\n",
       "      <td>19:50</td>\n",
       "      <td>20:05</td>\n",
       "      <td>3.0</td>\n",
       "      <td>4.0</td>\n",
       "      <td>1</td>\n",
       "      <td>1.0</td>\n",
       "      <td>0.0</td>\n",
       "      <td>3.0</td>\n",
       "      <td>41</td>\n",
       "      <td>20.407102</td>\n",
       "      <td>24.350000</td>\n",
       "      <td>23.4788</td>\n",
       "    </tr>\n",
       "  </tbody>\n",
       "</table>\n",
       "</div>"
      ],
      "text/plain": [
       "   Unnamed: 0      ID  Restaurant_latitude  Restaurant_longitude  \\\n",
       "0           0  0xcdcd            30.327968             78.046106   \n",
       "1           1  0xd987            10.003064             76.307589   \n",
       "2           2  0x2784            18.562450             73.916619   \n",
       "3           3  0xc8b6            30.899584             75.809346   \n",
       "4           4  0xdb64            26.463504             80.372929   \n",
       "\n",
       "   Delivery_location_latitude  Delivery_location_longitude  Order_Date  \\\n",
       "0                   30.397968                    78.116106  12-02-2022   \n",
       "1                   10.043064                    76.347589  13-02-2022   \n",
       "2                   18.652450                    74.006619  04-03-2022   \n",
       "3                   30.919584                    75.829346  13-02-2022   \n",
       "4                   26.593504                    80.502929  14-02-2022   \n",
       "\n",
       "  Time_Orderd Time_Order_picked  Weather_conditions  Road_traffic_density  \\\n",
       "0       21:55             22:10                 3.0                   4.0   \n",
       "1       14:55             15:05                 5.0                   3.0   \n",
       "2       17:30             17:40                 4.0                   2.0   \n",
       "3       09:20             09:30                 4.0                   1.0   \n",
       "4       19:50             20:05                 3.0                   4.0   \n",
       "\n",
       "   Vehicle_condition  multiple_deliveries  Festival  City  Time_taken (min)  \\\n",
       "0                  2                  3.0       0.0   3.0                46   \n",
       "1                  1                  1.0       0.0   3.0                23   \n",
       "2                  1                  1.0       0.0   3.0                21   \n",
       "3                  0                  0.0       0.0   3.0                20   \n",
       "4                  1                  1.0       0.0   3.0                41   \n",
       "\n",
       "   approx_distance_km  travel_time  distance_km  \n",
       "0           10.988439    28.450000      16.8077  \n",
       "1            6.279108    13.115000       8.8577  \n",
       "2           14.127993    18.655000      21.3843  \n",
       "3            3.139554     8.308333       4.8283  \n",
       "4           20.407102    24.350000      23.4788  "
      ]
     },
     "execution_count": 2,
     "metadata": {},
     "output_type": "execute_result"
    }
   ],
   "source": [
    "df = pd.read_csv('clean_data.csv')\n",
    "df.head()"
   ]
  },
  {
   "cell_type": "code",
   "execution_count": 3,
   "id": "7f02dcfb-cbc5-4181-8f3b-025fd441d460",
   "metadata": {},
   "outputs": [
    {
     "data": {
      "text/plain": [
       "(37909, 19)"
      ]
     },
     "execution_count": 3,
     "metadata": {},
     "output_type": "execute_result"
    }
   ],
   "source": [
    "df.shape"
   ]
  },
  {
   "cell_type": "code",
   "execution_count": 4,
   "id": "72e0c76c-7129-4438-baf7-b154649d5a3b",
   "metadata": {},
   "outputs": [
    {
     "data": {
      "text/plain": [
       "Unnamed: 0                     0\n",
       "ID                             0\n",
       "Restaurant_latitude            0\n",
       "Restaurant_longitude           0\n",
       "Delivery_location_latitude     0\n",
       "Delivery_location_longitude    0\n",
       "Order_Date                     0\n",
       "Time_Orderd                    0\n",
       "Time_Order_picked              0\n",
       "Weather_conditions             0\n",
       "Road_traffic_density           0\n",
       "Vehicle_condition              0\n",
       "multiple_deliveries            0\n",
       "Festival                       0\n",
       "City                           0\n",
       "Time_taken (min)               0\n",
       "approx_distance_km             0\n",
       "travel_time                    3\n",
       "distance_km                    3\n",
       "dtype: int64"
      ]
     },
     "execution_count": 4,
     "metadata": {},
     "output_type": "execute_result"
    }
   ],
   "source": [
    "df.isnull().sum()"
   ]
  },
  {
   "cell_type": "code",
   "execution_count": 5,
   "id": "c691ae3c-d173-463d-a297-ad758bcc300b",
   "metadata": {},
   "outputs": [],
   "source": [
    "df.dropna(inplace = True)"
   ]
  },
  {
   "cell_type": "code",
   "execution_count": 6,
   "id": "5d0cb6e9-8eef-4f1c-80d9-2ae6ae1334d6",
   "metadata": {},
   "outputs": [],
   "source": [
    "import optuna\n",
    "from sklearn.model_selection import train_test_split\n",
    "from sklearn.metrics import mean_absolute_error\n",
    "from sklearn.metrics import accuracy_score"
   ]
  },
  {
   "cell_type": "code",
   "execution_count": 7,
   "id": "059d0738-bca2-4fb7-a842-ea1eec5c7653",
   "metadata": {},
   "outputs": [
    {
     "name": "stdout",
     "output_type": "stream",
     "text": [
      "['Weather_conditions', 'Road_traffic_density', 'Vehicle_condition', 'multiple_deliveries', 'Festival', 'City', 'distance_km']\n"
     ]
    }
   ],
   "source": [
    "features = ['Weather_conditions', 'Road_traffic_density', 'Vehicle_condition', 'multiple_deliveries', 'Festival', 'City', 'distance_km']\n",
    "print(features)"
   ]
  },
  {
   "cell_type": "code",
   "execution_count": 8,
   "id": "94f10b3c-cfbc-4324-8a08-3b726685ba3b",
   "metadata": {},
   "outputs": [],
   "source": [
    "X = df[features]"
   ]
  },
  {
   "cell_type": "code",
   "execution_count": 9,
   "id": "e1ff6ef0-5ab0-49ac-8c5f-c74890f59c90",
   "metadata": {},
   "outputs": [],
   "source": [
    "y = df['Time_taken (min)']"
   ]
  },
  {
   "cell_type": "code",
   "execution_count": 10,
   "id": "576a6cdd-cb50-4daa-9478-96136830b2f1",
   "metadata": {},
   "outputs": [],
   "source": [
    "X_train, X_test, y_train, y_test = train_test_split(X, y)"
   ]
  },
  {
   "cell_type": "markdown",
   "id": "c8008112-f8bb-4147-b5a7-2f41ca185a24",
   "metadata": {},
   "source": [
    "LightGBM"
   ]
  },
  {
   "cell_type": "code",
   "execution_count": 11,
   "id": "fadfdcb0-3001-49ba-beb7-b58dbfb21eed",
   "metadata": {},
   "outputs": [
    {
     "name": "stdout",
     "output_type": "stream",
     "text": [
      "[LightGBM] [Info] Auto-choosing row-wise multi-threading, the overhead of testing was 0.000729 seconds.\n",
      "You can set `force_row_wise=true` to remove the overhead.\n",
      "And if memory is not enough, you can set `force_col_wise=true`.\n",
      "[LightGBM] [Info] Total Bins 279\n",
      "[LightGBM] [Info] Number of data points in the train set: 28429, number of used features: 7\n",
      "[LightGBM] [Info] Start training from score 26.603503\n",
      "[LightGBM] [Warning] No further splits with positive gain, best gain: -inf\n",
      "[LightGBM] [Warning] No further splits with positive gain, best gain: -inf\n",
      "[LightGBM] [Warning] No further splits with positive gain, best gain: -inf\n",
      "[LightGBM] [Warning] No further splits with positive gain, best gain: -inf\n",
      "[LightGBM] [Warning] No further splits with positive gain, best gain: -inf\n",
      "[LightGBM] [Warning] No further splits with positive gain, best gain: -inf\n",
      "[LightGBM] [Warning] No further splits with positive gain, best gain: -inf\n",
      "[LightGBM] [Warning] No further splits with positive gain, best gain: -inf\n",
      "[LightGBM] [Warning] No further splits with positive gain, best gain: -inf\n",
      "[LightGBM] [Warning] No further splits with positive gain, best gain: -inf\n",
      "[LightGBM] [Warning] No further splits with positive gain, best gain: -inf\n",
      "[LightGBM] [Warning] No further splits with positive gain, best gain: -inf\n",
      "[LightGBM] [Warning] No further splits with positive gain, best gain: -inf\n",
      "[LightGBM] [Warning] No further splits with positive gain, best gain: -inf\n",
      "[LightGBM] [Warning] No further splits with positive gain, best gain: -inf\n",
      "[LightGBM] [Warning] No further splits with positive gain, best gain: -inf\n",
      "[LightGBM] [Warning] No further splits with positive gain, best gain: -inf\n",
      "[LightGBM] [Warning] No further splits with positive gain, best gain: -inf\n",
      "[LightGBM] [Warning] No further splits with positive gain, best gain: -inf\n",
      "[LightGBM] [Warning] No further splits with positive gain, best gain: -inf\n",
      "[LightGBM] [Warning] No further splits with positive gain, best gain: -inf\n",
      "[LightGBM] [Warning] No further splits with positive gain, best gain: -inf\n",
      "[LightGBM] [Warning] No further splits with positive gain, best gain: -inf\n",
      "[LightGBM] [Warning] No further splits with positive gain, best gain: -inf\n",
      "[LightGBM] [Warning] No further splits with positive gain, best gain: -inf\n",
      "[LightGBM] [Warning] No further splits with positive gain, best gain: -inf\n",
      "[LightGBM] [Warning] No further splits with positive gain, best gain: -inf\n",
      "[LightGBM] [Warning] No further splits with positive gain, best gain: -inf\n",
      "[LightGBM] [Warning] No further splits with positive gain, best gain: -inf\n",
      "[LightGBM] [Warning] No further splits with positive gain, best gain: -inf\n",
      "[LightGBM] [Warning] No further splits with positive gain, best gain: -inf\n",
      "[LightGBM] [Warning] No further splits with positive gain, best gain: -inf\n",
      "[LightGBM] [Warning] No further splits with positive gain, best gain: -inf\n",
      "[LightGBM] [Warning] No further splits with positive gain, best gain: -inf\n",
      "[LightGBM] [Warning] No further splits with positive gain, best gain: -inf\n",
      "[LightGBM] [Warning] No further splits with positive gain, best gain: -inf\n",
      "[LightGBM] [Warning] No further splits with positive gain, best gain: -inf\n"
     ]
    }
   ],
   "source": [
    "from lightgbm import LGBMRegressor\n",
    "\n",
    "params = {\n",
    "    'n_estimators': 351,\n",
    "    'learning_rate': 0.020468063165234227,\n",
    "    'max_depth': 9,\n",
    "    'num_leaves': 60,\n",
    "    'min_child_samples': 47,\n",
    "    'subsample': 0.6284384317237434,\n",
    "    'colsample_bytree': 0.7896582974323323,\n",
    "    'reg_alpha': 0.0019326774481699123,\n",
    "    'reg_lambda': 0.05070012546687946,\n",
    "    'random_state': 42\n",
    "}\n",
    "\n",
    "model = LGBMRegressor(**params)\n",
    "model.fit(X_train, y_train)\n",
    "\n",
    "y_pred = model.predict(X_test)"
   ]
  },
  {
   "cell_type": "markdown",
   "id": "eed3954b-0cf0-4842-b27b-b0807134f6d3",
   "metadata": {},
   "source": [
    "Best MAE params: {'n_estimators': 351, 'learning_rate': 0.020468063165234227, 'max_depth': 9, 'num_leaves': 60, 'min_child_samples': 47, 'subsample': 0.6284384317237434, 'colsample_bytree': 0.7896582974323323, 'reg_alpha': 0.0019326774481699123, 'reg_lambda': 0.05070012546687946}\n",
    "Best MAE score: 4.903850914161457"
   ]
  },
  {
   "cell_type": "code",
   "execution_count": 12,
   "id": "41f3c9f7-c546-4cac-8de5-273c1a00dacd",
   "metadata": {},
   "outputs": [
    {
     "name": "stdout",
     "output_type": "stream",
     "text": [
      "4.899000233165826\n"
     ]
    }
   ],
   "source": [
    "mae = mean_absolute_error(y_pred, y_test)\n",
    "print(mae)"
   ]
  },
  {
   "cell_type": "code",
   "execution_count": 13,
   "id": "4a0c4474-fc16-4b2c-a0fb-c25de1e7112f",
   "metadata": {},
   "outputs": [],
   "source": [
    "errors = np.abs(y_test - y_pred)"
   ]
  },
  {
   "cell_type": "code",
   "execution_count": 14,
   "id": "857056ad-9a5d-403c-898c-7f921ef163b6",
   "metadata": {},
   "outputs": [
    {
     "name": "stdout",
     "output_type": "stream",
     "text": [
      "       y_true     y_pred  abs_error\n",
      "14813      54  29.075342  24.924658\n",
      "22167      42  18.680670  23.319330\n",
      "35102      50  27.412601  22.587399\n",
      "198        43  20.543419  22.456581\n",
      "15378      52  29.676629  22.323371\n"
     ]
    }
   ],
   "source": [
    "error_df = pd.DataFrame({\n",
    "    'y_true': y_test,\n",
    "    'y_pred': y_pred,\n",
    "    'abs_error': errors\n",
    "})\n",
    "\n",
    "worst_preds = error_df.sort_values(by='abs_error', ascending=False).head()\n",
    "print(worst_preds)"
   ]
  },
  {
   "cell_type": "code",
   "execution_count": 15,
   "id": "5151ef91-dbf0-4822-ac18-38687a23da46",
   "metadata": {},
   "outputs": [
    {
     "name": "stdout",
     "output_type": "stream",
     "text": [
      "Custom Accuracy (±4.899000233165826): 58.72%\n"
     ]
    }
   ],
   "source": [
    "tolerance = mae\n",
    "correct_within_range = np.abs(y_pred - y_test) <= tolerance\n",
    "custom_accuracy = np.mean(correct_within_range)\n",
    "print(f\"Custom Accuracy (±{tolerance}): {custom_accuracy * 100:.2f}%\")"
   ]
  },
  {
   "cell_type": "code",
   "execution_count": 16,
   "id": "014fe870-1397-4a23-a873-0d41162d1b76",
   "metadata": {},
   "outputs": [
    {
     "data": {
      "text/plain": [
       "['model.joblib']"
      ]
     },
     "execution_count": 16,
     "metadata": {},
     "output_type": "execute_result"
    }
   ],
   "source": [
    "import joblib\n",
    "\n",
    "joblib.dump(model, 'model.joblib')"
   ]
  }
 ],
 "metadata": {
  "kernelspec": {
   "display_name": "Python 3 (ipykernel)",
   "language": "python",
   "name": "python3"
  },
  "language_info": {
   "codemirror_mode": {
    "name": "ipython",
    "version": 3
   },
   "file_extension": ".py",
   "mimetype": "text/x-python",
   "name": "python",
   "nbconvert_exporter": "python",
   "pygments_lexer": "ipython3",
   "version": "3.11.4"
  }
 },
 "nbformat": 4,
 "nbformat_minor": 5
}
